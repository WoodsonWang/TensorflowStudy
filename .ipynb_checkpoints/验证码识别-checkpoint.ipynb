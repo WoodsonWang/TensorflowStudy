{
 "cells": [
  {
   "cell_type": "code",
   "execution_count": 23,
   "metadata": {},
   "outputs": [],
   "source": [
    "# 生成验证码图片\n",
    "from captcha.image import ImageCaptcha\n",
    "# 尺寸[160,60,3]\n",
    "img = ImageCaptcha()\n",
    "DIR = \"./CaptchaImage/\"\n",
    "def saveImage(text):\n",
    "    image = img.generate_image(text)\n",
    "    image.save(DIR+text+'.jpg')\n",
    "    return\n",
    "for i in range(10000):\n",
    "    saveImage(str(i).zfill(4))"
   ]
  },
  {
   "cell_type": "code",
   "execution_count": 24,
   "metadata": {},
   "outputs": [],
   "source": [
    "import tensorflow as tf"
   ]
  },
  {
   "cell_type": "code",
   "execution_count": 28,
   "metadata": {},
   "outputs": [
    {
     "name": "stdout",
     "output_type": "stream",
     "text": [
      "Tensor(\"DecodeJpeg:0\", shape=(?, ?, ?), dtype=uint8)\n"
     ]
    }
   ],
   "source": [
    "def _int64_feature(value):\n",
    "    return tf.train.Feature(int64_list=tf.train.Int64List(value=[value]))\n",
    "\n",
    "def _bytes_feature(value):\n",
    "    return tf.train.Feature(bytes_list=tf.train.BytesList(value=[value]))\n",
    "\n",
    "def createTfRecords():\n",
    "    filename = \"./CaptchaRecognize/output.tfrecords\"\n",
    "    # 创建一个writer来写tfrecord文件\n",
    "    writer = tf.python_io.TFRecordWriter()\n",
    "    for index in range():\n",
    "        # 获得标签\n",
    "        label = null\n",
    "        image = null\n",
    "        # 将一个验证码图片转化为Example Protocol Buffer\n",
    "        example = tf.train.Example(features=tf.train.Features(feature={\n",
    "            'input_pixels_num':_int64_feature(160*60),\n",
    "            'label':_bytes_feature(label),\n",
    "            'image':_bytes_feature(image)\n",
    "        }))\n",
    "        writer.write(example.SerializeToString())\n",
    "    writer.close()\n",
    "\n",
    "image1 = tf.gfile.FastGFile(DIR+\"0001.jpg\",'rb').read()\n",
    "# 将图片解码，解成张量\n",
    "image = tf.image.decode_jpeg(image1)\n",
    "print(image)"
   ]
  },
  {
   "cell_type": "code",
   "execution_count": null,
   "metadata": {},
   "outputs": [],
   "source": []
  }
 ],
 "metadata": {
  "kernelspec": {
   "display_name": "Python 3",
   "language": "python",
   "name": "python3"
  },
  "language_info": {
   "codemirror_mode": {
    "name": "ipython",
    "version": 3
   },
   "file_extension": ".py",
   "mimetype": "text/x-python",
   "name": "python",
   "nbconvert_exporter": "python",
   "pygments_lexer": "ipython3",
   "version": "3.6.10"
  }
 },
 "nbformat": 4,
 "nbformat_minor": 4
}
