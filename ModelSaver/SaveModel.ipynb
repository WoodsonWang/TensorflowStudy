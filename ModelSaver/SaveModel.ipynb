{
 "cells": [
  {
   "cell_type": "code",
   "execution_count": 2,
   "metadata": {},
   "outputs": [
    {
     "name": "stdout",
     "output_type": "stream",
     "text": [
      "Extracting ../MNIST_data\\train-images-idx3-ubyte.gz\n",
      "Extracting ../MNIST_data\\train-labels-idx1-ubyte.gz\n",
      "Extracting ../MNIST_data\\t10k-images-idx3-ubyte.gz\n",
      "Extracting ../MNIST_data\\t10k-labels-idx1-ubyte.gz\n"
     ]
    }
   ],
   "source": [
    "import tensorflow as tf\n",
    "from tensorflow.examples.tutorials.mnist import input_data\n",
    "# 载入数据集  \"MNIST_data\"为数据集下载路径，\n",
    "# one_hot是图像的标签使用one_hot编码\n",
    "mnist = input_data.read_data_sets(\"../MNIST_data\",one_hot = True)"
   ]
  },
  {
   "cell_type": "code",
   "execution_count": 3,
   "metadata": {},
   "outputs": [
    {
     "name": "stdout",
     "output_type": "stream",
     "text": [
      "WARNING:tensorflow:From <ipython-input-3-15f87ed5ce0c>:9: softmax_cross_entropy_with_logits (from tensorflow.python.ops.nn_ops) is deprecated and will be removed in a future version.\n",
      "Instructions for updating:\n",
      "\n",
      "Future major versions of TensorFlow will allow gradients to flow\n",
      "into the labels input on backprop by default.\n",
      "\n",
      "See `tf.nn.softmax_cross_entropy_with_logits_v2`.\n",
      "\n",
      "Epoch:0,Accuracy0.9087\n",
      "Epoch:1,Accuracy0.9163\n",
      "Epoch:2,Accuracy0.9172\n",
      "Epoch:3,Accuracy0.9196\n",
      "Epoch:4,Accuracy0.9181\n",
      "Epoch:5,Accuracy0.9202\n",
      "Epoch:6,Accuracy0.9226\n",
      "Epoch:7,Accuracy0.9216\n",
      "Epoch:8,Accuracy0.9247\n",
      "Epoch:9,Accuracy0.9216\n",
      "Epoch:10,Accuracy0.9216\n",
      "Epoch:11,Accuracy0.9233\n",
      "Epoch:12,Accuracy0.9229\n",
      "Epoch:13,Accuracy0.9229\n",
      "Epoch:14,Accuracy0.9226\n",
      "Epoch:15,Accuracy0.9228\n",
      "Epoch:16,Accuracy0.9219\n",
      "Epoch:17,Accuracy0.9235\n",
      "Epoch:18,Accuracy0.9228\n",
      "Epoch:19,Accuracy0.9247\n",
      "Epoch:20,Accuracy0.9249\n"
     ]
    }
   ],
   "source": [
    "batch_size = 100\n",
    "n_batch = mnist.train.num_examples // batch_size\n",
    "x = tf.placeholder(tf.float32,[None,784])\n",
    "y = tf.placeholder(tf.float32,[None,10])\n",
    "weights = tf.Variable(tf.truncated_normal([784,10],stddev=0.1))\n",
    "biases = tf.Variable(tf.zeros([10]))\n",
    "pre =tf.matmul(x,weights)+biases\n",
    "\n",
    "loss = tf.reduce_mean(tf.nn.softmax_cross_entropy_with_logits(labels=y,logits=pre))\n",
    "train_step = tf.train.GradientDescentOptimizer(0.2).minimize(loss)\n",
    "init = tf.global_variables_initializer()\n",
    "correct_prediction = tf.equal(tf.argmax(y,1),tf.argmax(pre,1))\n",
    "accuracy = tf.reduce_mean(tf.cast(correct_prediction,tf.float32))\n",
    "saver = tf.train.Saver()\n",
    "with tf.Session() as sess:\n",
    "    sess.run(init)\n",
    "    for epoch in range(21):\n",
    "        for batch in range(n_batch):\n",
    "            batch_xs,batch_ys = mnist.train.next_batch(batch_size)\n",
    "            sess.run(train_step,feed_dict={x:batch_xs,y:batch_ys})\n",
    "        acc = sess.run(accuracy,feed_dict={x:mnist.test.images,y:mnist.test.labels})\n",
    "        print(\"Epoch:\"+str(epoch)+\",Accuracy\"+str(acc))\n",
    "    # 保存模型\n",
    "    saver.save(sess,\"./Model/model.ckpt\")"
   ]
  },
  {
   "cell_type": "code",
   "execution_count": null,
   "metadata": {},
   "outputs": [],
   "source": []
  }
 ],
 "metadata": {
  "kernelspec": {
   "display_name": "Python 3",
   "language": "python",
   "name": "python3"
  },
  "language_info": {
   "codemirror_mode": {
    "name": "ipython",
    "version": 3
   },
   "file_extension": ".py",
   "mimetype": "text/x-python",
   "name": "python",
   "nbconvert_exporter": "python",
   "pygments_lexer": "ipython3",
   "version": "3.6.10"
  }
 },
 "nbformat": 4,
 "nbformat_minor": 4
}
