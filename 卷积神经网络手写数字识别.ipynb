{
 "cells": [
  {
   "cell_type": "code",
   "execution_count": null,
   "metadata": {},
   "outputs": [],
   "source": [
    "# 第一次运行太长时间，所以修改网络节点个数，降低运行时间\n",
    "# Adam优化器第一次运行设置0.2的学习率，准去率一直处于0.1左右，第二次修改为1e-4准确率回归正常。"
   ]
  },
  {
   "cell_type": "code",
   "execution_count": 2,
   "metadata": {},
   "outputs": [
    {
     "name": "stdout",
     "output_type": "stream",
     "text": [
      "Extracting MNIST_data\\train-images-idx3-ubyte.gz\n",
      "Extracting MNIST_data\\train-labels-idx1-ubyte.gz\n",
      "Extracting MNIST_data\\t10k-images-idx3-ubyte.gz\n",
      "Extracting MNIST_data\\t10k-labels-idx1-ubyte.gz\n"
     ]
    }
   ],
   "source": [
    "import tensorflow as tf\n",
    "from tensorflow.examples.tutorials.mnist import input_data\n",
    "mnist = input_data.read_data_sets(\"MNIST_data\",one_hot = True)"
   ]
  },
  {
   "cell_type": "code",
   "execution_count": 5,
   "metadata": {},
   "outputs": [
    {
     "name": "stdout",
     "output_type": "stream",
     "text": [
      "Epoch:0,Accuracy0.794\n",
      "Epoch:1,Accuracy0.8881\n",
      "Epoch:2,Accuracy0.9153\n",
      "Epoch:3,Accuracy0.9264\n",
      "Epoch:4,Accuracy0.9373\n",
      "Epoch:5,Accuracy0.9423\n",
      "Epoch:6,Accuracy0.9466\n",
      "Epoch:7,Accuracy0.952\n",
      "Epoch:8,Accuracy0.9564\n",
      "Epoch:9,Accuracy0.9583\n",
      "Epoch:10,Accuracy0.9613\n",
      "Epoch:11,Accuracy0.963\n",
      "Epoch:12,Accuracy0.9641\n",
      "Epoch:13,Accuracy0.9663\n",
      "Epoch:14,Accuracy0.9652\n",
      "Epoch:15,Accuracy0.968\n",
      "Epoch:16,Accuracy0.9688\n",
      "Epoch:17,Accuracy0.9703\n",
      "Epoch:18,Accuracy0.9706\n",
      "Epoch:19,Accuracy0.9707\n",
      "Epoch:20,Accuracy0.9727\n"
     ]
    }
   ],
   "source": [
    "batch_size = 100\n",
    "n_batch = mnist.train.num_examples // batch_size\n",
    "\n",
    "# 初始化权值\n",
    "def weight_variables(shape):\n",
    "    initial = tf.truncated_normal(shape,stddev=0.1)\n",
    "    return tf.Variable(initial)\n",
    "\n",
    "# 初始化偏置值\n",
    "def bias_variables(shape):\n",
    "    initial = tf.constant(0.1,shape=shape)\n",
    "    return tf.Variable(initial)\n",
    "\n",
    "# 卷积层\n",
    "def conv2d(x,W):\n",
    "    # W是一个卷积核 [filter_height,filter_width,in_width,in_channels]\n",
    "    # strides[0]= strides[3] = 1 规定是1.   strides[1]代表x方向步长 strides[2]代表y轴方向步长\n",
    "    return tf.nn.conv2d(x,W,strides=[1,1,1,1],padding='SAME')\n",
    "\n",
    "# 池化层\n",
    "def max_pool_2x2(x):\n",
    "    # ksize（窗口大小） = [1,x,y,1] 首位参数默认是1\n",
    "    return tf.nn.max_pool(x,ksize=[1,2,2,1],strides=[1,2,2,1],padding='SAME')\n",
    "\n",
    "x = tf.placeholder(tf.float32,[None,784])\n",
    "y = tf.placeholder(tf.float32,[None,10])\n",
    "\n",
    "x_image = tf.reshape(x,[-1,28,28,1])\n",
    "\n",
    "# 5*5 的采样窗口 16个卷积核从1个通道抽取特征\n",
    "W_conv1 = weight_variables([5,5,1,16])\n",
    "b_conv1 = bias_variables([16])\n",
    "\n",
    "h_conv1 = tf.nn.relu(conv2d(x_image,W_conv1)+b_conv1)\n",
    "h_pool1 = max_pool_2x2(h_conv1)\n",
    "\n",
    "\n",
    "W_conv2 = weight_variables([5,5,16,8])\n",
    "# 一个卷积核对应一个偏置\n",
    "b_conv2 = bias_variables([8])\n",
    "\n",
    "h_conv2 = tf.nn.relu(conv2d(h_pool1,W_conv2)+b_conv2)\n",
    "h_pool2 = max_pool_2x2(h_conv2)\n",
    "\n",
    "# 全连接层  上一层 输出7*7的8个特征图  定义全连接层32个神经元\n",
    "W_fc1 = weight_variables([7*7*8,32])\n",
    "b_fc1 = bias_variables([32])\n",
    "\n",
    "# 把第二个池化层的输出扁平化为1维\n",
    "h_pool2_flat = tf.reshape(h_pool2,[-1,7*7*8])\n",
    "# 第一个全连接层的输出\n",
    "h_fc1 = tf.nn.relu(tf.matmul(h_pool2_flat,W_fc1) + b_fc1)\n",
    "\n",
    "keep_pro = tf.placeholder(tf.float32)\n",
    "h_fc1_drop = tf.nn.dropout(h_fc1,keep_pro)\n",
    "\n",
    "W_fc2 = weight_variables([32,10])\n",
    "b_fc2 = bias_variables([10])\n",
    "\n",
    "# 计算输出\n",
    "prediction = tf.matmul(h_fc1_drop,W_fc2) + b_fc2\n",
    "\n",
    "\n",
    "loss = tf.reduce_mean(tf.nn.softmax_cross_entropy_with_logits(labels=y,logits=prediction))\n",
    "train_step = tf.train.AdamOptimizer(1e-4).minimize(loss)\n",
    "init = tf.global_variables_initializer()\n",
    "# tf.argmax(vector, 1)：返回的是vector中的最大值的索引号\n",
    "# 0 按行轴算，取列的最大值，1 按列轴算，取行的最大值\n",
    "# correct_prediction 是一个布尔型列表\n",
    "# 使用softmax_cross_entropy_with_logits函数时，用pre作为计算准确率的输入参数\n",
    "correct_prediction = tf.equal(tf.argmax(y,1),tf.argmax(prediction,1))\n",
    "# 求准确率\n",
    "# tf.cast 将correct_prediction 转化为32位的浮点型，True 转为 1 False 转为 0\n",
    "accuracy = tf.reduce_mean(tf.cast(correct_prediction,tf.float32))\n",
    "with tf.Session() as sess:\n",
    "    sess.run(init)\n",
    "    for epoch in range(21):\n",
    "        for batch in range(n_batch):\n",
    "            batch_xs,batch_ys = mnist.train.next_batch(batch_size)\n",
    "            sess.run(train_step,feed_dict={x:batch_xs,y:batch_ys,keep_pro:0.7})\n",
    "        acc = sess.run(accuracy,feed_dict={x:mnist.test.images,y:mnist.test.labels,keep_pro:1.0})\n",
    "        print(\"Epoch:\"+str(epoch)+\",Accuracy\"+str(acc))"
   ]
  },
  {
   "cell_type": "code",
   "execution_count": null,
   "metadata": {},
   "outputs": [],
   "source": []
  }
 ],
 "metadata": {
  "kernelspec": {
   "display_name": "Python 3",
   "language": "python",
   "name": "python3"
  },
  "language_info": {
   "codemirror_mode": {
    "name": "ipython",
    "version": 3
   },
   "file_extension": ".py",
   "mimetype": "text/x-python",
   "name": "python",
   "nbconvert_exporter": "python",
   "pygments_lexer": "ipython3",
   "version": "3.6.10"
  }
 },
 "nbformat": 4,
 "nbformat_minor": 4
}
