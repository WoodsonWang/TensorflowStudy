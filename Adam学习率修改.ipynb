{
 "cells": [
  {
   "cell_type": "code",
   "execution_count": 1,
   "metadata": {
    "collapsed": true
   },
   "outputs": [],
   "source": [
    "import tensorflow as tf\n",
    "from tensorflow.examples.tutorials.mnist import input_data"
   ]
  },
  {
   "cell_type": "code",
   "execution_count": 5,
   "metadata": {},
   "outputs": [
    {
     "name": "stdout",
     "output_type": "stream",
     "text": [
      "Extracting MNIST_data\\train-images-idx3-ubyte.gz\n",
      "Extracting MNIST_data\\train-labels-idx1-ubyte.gz\n",
      "Extracting MNIST_data\\t10k-images-idx3-ubyte.gz\n",
      "Extracting MNIST_data\\t10k-labels-idx1-ubyte.gz\n",
      "Epoch:0,Test-Accuracy0.858,Learning_rate0.01\n",
      "Epoch:1,Test-Accuracy0.8985,Learning_rate0.0095\n",
      "Epoch:2,Test-Accuracy0.9087,Learning_rate0.009025\n",
      "Epoch:3,Test-Accuracy0.9162,Learning_rate0.00857375\n",
      "Epoch:4,Test-Accuracy0.9211,Learning_rate0.008145062\n",
      "Epoch:5,Test-Accuracy0.9272,Learning_rate0.0077378093\n",
      "Epoch:6,Test-Accuracy0.936,Learning_rate0.007350919\n",
      "Epoch:7,Test-Accuracy0.937,Learning_rate0.006983373\n",
      "Epoch:8,Test-Accuracy0.9423,Learning_rate0.006634204\n",
      "Epoch:9,Test-Accuracy0.9397,Learning_rate0.006302494\n",
      "Epoch:10,Test-Accuracy0.9358,Learning_rate0.0059873695\n",
      "Epoch:11,Test-Accuracy0.9438,Learning_rate0.005688001\n",
      "Epoch:12,Test-Accuracy0.9496,Learning_rate0.005403601\n",
      "Epoch:13,Test-Accuracy0.9455,Learning_rate0.0051334207\n",
      "Epoch:14,Test-Accuracy0.949,Learning_rate0.0048767496\n",
      "Epoch:15,Test-Accuracy0.9533,Learning_rate0.004632912\n",
      "Epoch:16,Test-Accuracy0.9551,Learning_rate0.0044012666\n",
      "Epoch:17,Test-Accuracy0.9535,Learning_rate0.0041812034\n",
      "Epoch:18,Test-Accuracy0.9606,Learning_rate0.0039721434\n",
      "Epoch:19,Test-Accuracy0.9582,Learning_rate0.003773536\n",
      "Epoch:20,Test-Accuracy0.9596,Learning_rate0.0035848592\n",
      "Epoch:21,Test-Accuracy0.9556,Learning_rate0.0034056162\n",
      "Epoch:22,Test-Accuracy0.9612,Learning_rate0.0032353355\n",
      "Epoch:23,Test-Accuracy0.9605,Learning_rate0.0030735687\n",
      "Epoch:24,Test-Accuracy0.962,Learning_rate0.0029198902\n",
      "Epoch:25,Test-Accuracy0.9642,Learning_rate0.0027738956\n",
      "Epoch:26,Test-Accuracy0.9629,Learning_rate0.002635201\n",
      "Epoch:27,Test-Accuracy0.9652,Learning_rate0.002503441\n",
      "Epoch:28,Test-Accuracy0.9651,Learning_rate0.0023782689\n",
      "Epoch:29,Test-Accuracy0.9652,Learning_rate0.0022593555\n"
     ]
    }
   ],
   "source": [
    "mnist = input_data.read_data_sets(\"MNIST_data\",one_hot = True)\n",
    "batch_size = 100\n",
    "n_batch = mnist.train.num_examples // batch_size\n",
    "x = tf.placeholder(tf.float32,[None,784])\n",
    "y = tf.placeholder(tf.float32,[None,10])\n",
    "keep_pro = tf.placeholder(tf.float32)\n",
    "# 学习率\n",
    "lr = tf.Variable(0.01,dtype=tf.float32)\n",
    "weights1 = tf.Variable(tf.truncated_normal([784,300],stddev=1.0))\n",
    "biases1 = tf.Variable(tf.zeros([300])+0.1)\n",
    "L1 = tf.nn.tanh(tf.matmul(x,weights1)+biases1)\n",
    "L1_drop = tf.nn.dropout(L1,keep_pro)\n",
    "\n",
    "weights2 = tf.Variable(tf.truncated_normal([300,100],stddev=1.0))\n",
    "biases2 = tf.Variable(tf.zeros([100])+0.1)\n",
    "L2 = tf.nn.tanh(tf.matmul(L1_drop,weights2)+biases2)\n",
    "L2_drop = tf.nn.dropout(L2,keep_pro)\n",
    "\n",
    "weights3 = tf.Variable(tf.truncated_normal([100,10],stddev=1.0))\n",
    "biases3 = tf.Variable(tf.zeros([10])+0.1)\n",
    "pre = tf.matmul(L2_drop,weights3)+biases3\n",
    "\n",
    "loss = tf.reduce_mean(tf.nn.softmax_cross_entropy_with_logits(labels=y,logits=pre))\n",
    "train_step = tf.train.AdamOptimizer(lr).minimize(loss)\n",
    "init = tf.global_variables_initializer()\n",
    "correct_prediction = tf.equal(tf.argmax(y,1),tf.argmax(pre,1))\n",
    "accuracy = tf.reduce_mean(tf.cast(correct_prediction,tf.float32))\n",
    "with tf.Session() as sess:\n",
    "    sess.run(init)\n",
    "    for epoch in range(30):\n",
    "        sess.run(tf.assign(lr,0.01*(0.95**epoch)))\n",
    "        for batch in range(n_batch):\n",
    "            batch_xs,batch_ys = mnist.train.next_batch(batch_size)\n",
    "            sess.run(train_step,feed_dict={x:batch_xs,y:batch_ys,keep_pro:1.0})\n",
    "        acc_test = sess.run(accuracy,feed_dict={x:mnist.test.images,y:mnist.test.labels,keep_pro:1.0})\n",
    "        learning_rate = sess.run(lr)\n",
    "        print(\"Epoch:\"+str(epoch)+\",Test-Accuracy\"+str(acc_test)+\",Learning_rate\"+str(learning_rate))"
   ]
  },
  {
   "cell_type": "code",
   "execution_count": null,
   "metadata": {
    "collapsed": true
   },
   "outputs": [],
   "source": []
  }
 ],
 "metadata": {
  "kernelspec": {
   "display_name": "Python 3",
   "language": "python",
   "name": "python3"
  },
  "language_info": {
   "codemirror_mode": {
    "name": "ipython",
    "version": 3
   },
   "file_extension": ".py",
   "mimetype": "text/x-python",
   "name": "python",
   "nbconvert_exporter": "python",
   "pygments_lexer": "ipython3",
   "version": "3.6.2"
  }
 },
 "nbformat": 4,
 "nbformat_minor": 2
}
