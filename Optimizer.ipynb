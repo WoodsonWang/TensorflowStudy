{
 "cells": [
  {
   "cell_type": "code",
   "execution_count": 3,
   "metadata": {
    "collapsed": true
   },
   "outputs": [],
   "source": [
    "import tensorflow as tf\n",
    "from tensorflow.examples.tutorials.mnist import input_data"
   ]
  },
  {
   "cell_type": "code",
   "execution_count": 5,
   "metadata": {},
   "outputs": [
    {
     "name": "stdout",
     "output_type": "stream",
     "text": [
      "Extracting MNIST_data\\train-images-idx3-ubyte.gz\n",
      "Extracting MNIST_data\\train-labels-idx1-ubyte.gz\n",
      "Extracting MNIST_data\\t10k-images-idx3-ubyte.gz\n",
      "Extracting MNIST_data\\t10k-labels-idx1-ubyte.gz\n",
      "Epoch:0,Accuracy0.9096\n",
      "Epoch:1,Accuracy0.9225\n",
      "Epoch:2,Accuracy0.9188\n",
      "Epoch:3,Accuracy0.92\n",
      "Epoch:4,Accuracy0.9241\n",
      "Epoch:5,Accuracy0.9174\n",
      "Epoch:6,Accuracy0.915\n",
      "Epoch:7,Accuracy0.9237\n",
      "Epoch:8,Accuracy0.9217\n",
      "Epoch:9,Accuracy0.9166\n",
      "Epoch:10,Accuracy0.9216\n",
      "Epoch:11,Accuracy0.9148\n",
      "Epoch:12,Accuracy0.9205\n",
      "Epoch:13,Accuracy0.9198\n",
      "Epoch:14,Accuracy0.918\n",
      "Epoch:15,Accuracy0.92\n",
      "Epoch:16,Accuracy0.918\n",
      "Epoch:17,Accuracy0.9184\n",
      "Epoch:18,Accuracy0.9138\n",
      "Epoch:19,Accuracy0.9208\n",
      "Epoch:20,Accuracy0.9162\n"
     ]
    }
   ],
   "source": [
    "mnist = input_data.read_data_sets(\"MNIST_data\",one_hot = True)\n",
    "batch_size = 100\n",
    "n_batch = mnist.train.num_examples // batch_size\n",
    "x = tf.placeholder(tf.float32,[None,784])\n",
    "y = tf.placeholder(tf.float32,[None,10])\n",
    "weights = tf.Variable(tf.zeros([784,10]))\n",
    "biases = tf.Variable(tf.zeros([10]))\n",
    "pre =tf.matmul(x,weights)+biases\n",
    "loss = tf.reduce_mean(tf.nn.softmax_cross_entropy_with_logits(labels=y,logits=pre))\n",
    "train_step = tf.train.AdamOptimizer(1e-2).minimize(loss)\n",
    "init = tf.global_variables_initializer()\n",
    "correct_prediction = tf.equal(tf.argmax(y,1),tf.argmax(pre,1))\n",
    "accuracy = tf.reduce_mean(tf.cast(correct_prediction,tf.float32))\n",
    "with tf.Session() as sess:\n",
    "    sess.run(init)\n",
    "    for epoch in range(21):\n",
    "        for batch in range(n_batch):\n",
    "            batch_xs,batch_ys = mnist.train.next_batch(batch_size)\n",
    "            sess.run(train_step,feed_dict={x:batch_xs,y:batch_ys})\n",
    "        acc = sess.run(accuracy,feed_dict={x:mnist.test.images,y:mnist.test.labels})\n",
    "        print(\"Epoch:\"+str(epoch)+\",Accuracy\"+str(acc))"
   ]
  },
  {
   "cell_type": "code",
   "execution_count": null,
   "metadata": {
    "collapsed": true
   },
   "outputs": [],
   "source": []
  }
 ],
 "metadata": {
  "kernelspec": {
   "display_name": "Python 3",
   "language": "python",
   "name": "python3"
  },
  "language_info": {
   "codemirror_mode": {
    "name": "ipython",
    "version": 3
   },
   "file_extension": ".py",
   "mimetype": "text/x-python",
   "name": "python",
   "nbconvert_exporter": "python",
   "pygments_lexer": "ipython3",
   "version": "3.6.2"
  }
 },
 "nbformat": 4,
 "nbformat_minor": 2
}
